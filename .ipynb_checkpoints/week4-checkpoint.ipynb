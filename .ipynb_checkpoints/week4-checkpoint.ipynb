{
 "cells": [
  {
   "cell_type": "markdown",
   "id": "fa92373d-eeef-4d26-9604-4464df0e9fb3",
   "metadata": {},
   "source": [
    "## Part 1: Theoretical Analysis (30%)\n",
    "\n",
    "## Task 1\n",
    "### Q1: How AI-Driven Code Generation Tools Reduce Development Time — and Their Limitations\n",
    "\n",
    "**Time-Saving Benefits:**\n",
    "- **Contextual Suggestions:** Tools like GitHub Copilot provide relevant code based on current context, reducing manual effort.\n",
    "- **Faster Prototyping:** Developers can quickly scaffold and iterate on ideas.\n",
    "- **Learning Support:** New developers benefit from seeing idiomatic code examples in real time.\n",
    "\n",
    "**Limitations:**\n",
    "- **Security & Quality Risks:** AI-generated code may contain vulnerabilities or inefficient logic.\n",
    "- **Context Blindness:** Lacks full understanding of project-specific goals or constraints.\n",
    "- **Inherited Bias:** May replicate outdated or non-compliant code from public datasets.\n",
    "\n",
    "---\n",
    "\n",
    "### Q2: Supervised vs. Unsupervised Learning for Automated Bug Detection\n",
    "\n",
    "| Feature                  | Supervised Learning                                         | Unsupervised Learning                                       |\n",
    "|--------------------------|--------------------------------------------------------------|--------------------------------------------------------------|\n",
    "| **Data Input**           | Labeled (buggy vs. clean code)                              | Unlabeled code samples                                       |\n",
    "| **Common Techniques**    | Classification using decision trees, SVMs, or neural nets   | Clustering, anomaly detection (e.g., K-Means, Isolation Forests) |\n",
    "| **Detects**              | Known bug patterns                                           | Anomalous or novel issues                                    |\n",
    "| **Usefulness**           | High precision with known data                              | Good for discovering unknown or rare bugs                    |\n",
    "\n",
    "---\n",
    "\n",
    "### Q3: Why Bias Mitigation Is Critical in AI-Driven UX Personalization\n",
    "\n",
    "- **Fairness:** Prevents discrimination or exclusion of minority user groups.\n",
    "- **Trust Building:** Users are more likely to engage with systems that treat them equitably.\n",
    "- **Regulatory Compliance:** Mitigates legal risks under privacy and anti-bias laws.\n",
    "- **Ethical Design:** Ensures inclusive access and diverse representation in personalized content.\n",
    "\n"
   ]
  },
  {
   "cell_type": "markdown",
   "id": "b5086432-b4c1-456e-b5b6-79e0a4408ab3",
   "metadata": {},
   "source": [
    "## Task 2: Case Study Analysis\n",
    "\n",
    "### How AIOps Improves Software Deployment Efficiency\n",
    "\n",
    "AIOps (Artificial Intelligence for IT Operations) leverages machine learning, predictive analytics, and automation to streamline the deployment process. It enhances both speed and reliability by minimizing manual intervention and proactively managing issues.\n",
    "\n",
    "---\n",
    "\n",
    "### Example 1: Predictive Deployment and Automated Rollbacks\n",
    "\n",
    "AIOps platforms analyze historical deployment patterns and system behavior to forecast potential issues **before** code reaches production.  \n",
    "- If anomalies or performance degradation are detected, AIOps can **automatically trigger rollbacks**, ensuring service continuity.\n",
    "- _Example:_ AI-driven observability tools integrated with Kubernetes can detect failures post-release and revert to a previous stable version.\n",
    "\n",
    "---\n",
    "\n",
    "### Example 2: Intelligent Build Optimization\n",
    "\n",
    "By analyzing usage trends and pipeline telemetry, AIOps can allocate build resources more effectively, skipping redundant steps and reducing overhead.\n",
    "- Techniques like **intelligent caching**, failure pattern recognition, and dynamic resource scaling shorten build times.\n",
    "- _Example:_ Cloud CI/CD tools that use AIOps automatically prioritize faster builds based on historical success rates and project complexity.\n",
    "\n",
    "---\n"
   ]
  },
  {
   "cell_type": "markdown",
   "id": "7c3cac40-96b3-4ccc-a954-7b8d95d8cc22",
   "metadata": {},
   "source": [
    "## Part 2"
   ]
  },
  {
   "cell_type": "markdown",
   "id": "a04de409-188a-429d-b06b-7d839193a9e8",
   "metadata": {},
   "source": [
    "###  Manual Implementation\n"
   ]
  },
  {
   "cell_type": "code",
   "execution_count": 15,
   "id": "ba98e6b7-a03e-49da-bc5f-7f6fd8ba27ed",
   "metadata": {},
   "outputs": [
    {
     "name": "stdout",
     "output_type": "stream",
     "text": [
      "Sorted by age (manual sort):\n",
      "{'name': 'Odongo', 'age': 28}\n",
      "{'name': 'Joyce', 'age': 34}\n",
      "{'name': 'palpable', 'age': 40}\n"
     ]
    }
   ],
   "source": [
    "# Manual function to sort list of dictionaries by key\n",
    "def sort_dicts_by_key_manual(data, key):\n",
    "    for i in range(len(data)):\n",
    "        for j in range(0, len(data) - i - 1):\n",
    "            if data[j].get(key) > data[j + 1].get(key):\n",
    "                data[j], data[j + 1] = data[j + 1], data[j]\n",
    "    return data\n",
    "\n",
    "# Example list of dictionaries\n",
    "people = [\n",
    "    {\"name\": \"Joyce\", \"age\": 34},\n",
    "    {\"name\": \"Odongo\", \"age\": 28},\n",
    "    {\"name\": \"palpable\", \"age\": 40}\n",
    "]\n",
    "\n",
    "# Sort by the key 'age'\n",
    "sorted_people = sort_dicts_by_key_manual(people, \"age\")\n",
    "\n",
    "# Print the sorted list\n",
    "print(\"Sorted by age (manual sort):\")\n",
    "for person in sorted_people:\n",
    "    print(person)\n",
    "\n"
   ]
  },
  {
   "cell_type": "markdown",
   "id": "c6f16472-2dd0-4ac4-9a8c-391088d74ca6",
   "metadata": {},
   "source": [
    "### AI-Suggested Code (GitHub Copilot / Tabnine)"
   ]
  },
  {
   "cell_type": "code",
   "execution_count": 16,
   "id": "df0b5223-1abf-4689-801e-c49539a1c34a",
   "metadata": {},
   "outputs": [
    {
     "name": "stdout",
     "output_type": "stream",
     "text": [
      "Sorted by age:\n",
      "{'name': 'Odongo', 'age': 28}\n",
      "{'name': 'Joyce', 'age': 34}\n",
      "{'name': 'palpable', 'age': 40}\n"
     ]
    }
   ],
   "source": [
    "# Copilot/Tabnine-suggested function\n",
    "def sort_dicts_by_key(data, key):\n",
    "    return sorted(data, key=lambda x: x.get(key))\n",
    "\n",
    "# Example list of dictionaries\n",
    "people = [\n",
    "    {\"name\": \"Joyce\", \"age\": 34},\n",
    "    {\"name\": \"Odongo\", \"age\": 28},\n",
    "    {\"name\": \"palpable\", \"age\": 40}\n",
    "]\n",
    "\n",
    "# Sort by the key 'age'\n",
    "sorted_people = sort_dicts_by_key(people, \"age\")\n",
    "\n",
    "# Print the sorted list\n",
    "print(\"Sorted by age:\")\n",
    "for person in sorted_people:\n",
    "    print(person)\n",
    "\n"
   ]
  },
  {
   "cell_type": "markdown",
   "id": "f3be8fd5-b72b-4733-86a4-cf5a70df8a43",
   "metadata": {},
   "source": [
    "## 📊 Analysis: AI-Suggested vs. Manual Sorting Function\n",
    "\n",
    "The AI-suggested function, `sort_dicts_by_key`, leverages Python’s built-in `sorted()` function, which internally uses **Timsort**—a highly efficient hybrid sorting algorithm with a time complexity of **O(n log n)**. This function is concise, expressive, and easy to read, making it ideal for real-world production environments. It also preserves flexibility through the `key` parameter, allowing custom sorting strategies without requiring boilerplate logic.\n",
    "\n",
    "In contrast, the manually implemented `sort_dicts_by_key_manual` employs **bubble sort**, which is conceptually simple but computationally inefficient with a time complexity of **O(n²)**. While it serves as a valuable educational tool for understanding basic sorting mechanics, it’s unsuitable for performance-critical applications or large datasets due to its poor scalability and maintainability.\n",
    "\n",
    "Although both implementations yield accurate results on small collections, the AI-suggested code clearly excels in terms of **speed, readability, and robustness**. Moreover, it minimizes the likelihood of bugs caused by nested loops and manual data swapping.\n",
    "\n",
    "In conclusion, the AI-assisted approach not only ensures efficiency but also upholds Pythonic best practices. It demonstrates how AI-powered tools can enhance developer productivity and guide engineers toward clean, reliable, and production-ready code without sacrificing control or precision.\n"
   ]
  },
  {
   "cell_type": "code",
   "execution_count": null,
   "id": "800ea281-b053-47ec-9615-216dbc237f15",
   "metadata": {},
   "outputs": [],
   "source": []
  }
 ],
 "metadata": {
  "kernelspec": {
   "display_name": "Python 3 (ipykernel)",
   "language": "python",
   "name": "python3"
  },
  "language_info": {
   "codemirror_mode": {
    "name": "ipython",
    "version": 3
   },
   "file_extension": ".py",
   "mimetype": "text/x-python",
   "name": "python",
   "nbconvert_exporter": "python",
   "pygments_lexer": "ipython3",
   "version": "3.13.3"
  }
 },
 "nbformat": 4,
 "nbformat_minor": 5
}
